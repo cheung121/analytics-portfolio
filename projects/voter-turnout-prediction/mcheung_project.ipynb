{
 "cells": [
  {
   "cell_type": "code",
   "execution_count": 72,
   "id": "f9ffeab7-5855-4c3d-82c3-9ad2d4dc0eda",
   "metadata": {},
   "outputs": [],
   "source": [
    "# =========================\n",
    "# 🔹 SECTION 1: SETUP & LOAD DATA\n",
    "# =========================\n",
    "import pandas as pd\n",
    "import numpy as np\n",
    "import matplotlib.pyplot as plt\n",
    "from sklearn.model_selection import train_test_split, cross_val_score\n",
    "from sklearn.linear_model import LinearRegression, RidgeCV, LassoCV, LogisticRegression\n",
    "from sklearn.ensemble import RandomForestRegressor, GradientBoostingRegressor\n",
    "from sklearn.svm import SVR\n",
    "from sklearn.neighbors import KNeighborsRegressor\n",
    "from sklearn.preprocessing import OneHotEncoder, StandardScaler\n",
    "from sklearn.impute import SimpleImputer\n",
    "from sklearn.metrics import mean_squared_error, mean_absolute_error, r2_score\n",
    "import warnings\n",
    "warnings.filterwarnings(\"ignore\")\n",
    "\n",
    "# Load datasets\n",
    "turnout_df = pd.read_csv(\"data/Extended_Master_VoterTurnout_Dataset.csv\")\n",
    "vote_share_df = pd.read_csv(\"data/ClintonTwp_VoteShare_Predictive_Dataset.csv\")"
   ]
  },
  {
   "cell_type": "code",
   "execution_count": 73,
   "id": "4c50a168-d738-4995-968b-fae28e1dde4d",
   "metadata": {},
   "outputs": [
    {
     "data": {
      "image/png": "[encoded data removed]",
      "text/plain": [
       "<Figure size 1000x500 with 1 Axes>"
      ]
     },
     "metadata": {},
     "output_type": "display_data"
    }
   ],
   "source": [
    "# =========================\n",
    "# 🔹 SECTION 2: TURNOUT MODEL - ENSEMBLE COMPARISON\n",
    "# =========================\n",
    "if 'Election_Type' in turnout_df.columns:\n",
    "    turnout_df = turnout_df[turnout_df['Election_Type'] == 'Presidential General']\n",
    "\n",
    "turnout_features = [\n",
    "    'Year', 'Turnout_Percent', 'Voted', 'Election_Type', 'Major_Race_Flag',\n",
    "    'COVID_Impact_Flag', 'Weather_Severity',\n",
    "    'Percent_Age_18_29', 'Percent_Age_30_44',\n",
    "    'Percent_Age_45_64', 'Percent_Age_65plus',\n",
    "    'Median_Income', 'Percent_College_Grad',\n",
    "    'Past_Turnout_1', 'Past_Turnout_2'\n",
    "]\n",
    "turnout_df = turnout_df[turnout_features]\n",
    "\n",
    "encoder = OneHotEncoder(drop='first', sparse_output=False)\n",
    "encoded = encoder.fit_transform(turnout_df[['Election_Type']])\n",
    "encoded_df = pd.DataFrame(encoded, columns=encoder.get_feature_names_out(['Election_Type']))\n",
    "turnout_df = pd.concat([turnout_df.drop(columns='Election_Type'), encoded_df], axis=1)\n",
    "\n",
    "turnout_df = turnout_df.dropna(subset=['Turnout_Percent'])\n",
    "X_turnout = turnout_df.drop(columns=['Turnout_Percent', 'Year'])\n",
    "y_turnout = turnout_df['Turnout_Percent']\n",
    "\n",
    "imputer = SimpleImputer(strategy='mean')\n",
    "X_turnout = pd.DataFrame(imputer.fit_transform(X_turnout), columns=X_turnout.columns)\n",
    "scaler_turnout = StandardScaler()\n",
    "X_turnout_scaled = scaler_turnout.fit_transform(X_turnout)\n",
    "\n",
    "models = {\n",
    "    'LinearRegression': LinearRegression(),\n",
    "    'RidgeCV': RidgeCV(alphas=[0.1, 1.0, 10.0], cv=3),\n",
    "    'LassoCV': LassoCV(cv=3),\n",
    "    'RandomForest': RandomForestRegressor(n_estimators=100, random_state=42),\n",
    "    'GradientBoosting': GradientBoostingRegressor(n_estimators=100),\n",
    "    'SVR': SVR(),\n",
    "    'KNN': KNeighborsRegressor(n_neighbors=3)\n",
    "}\n",
    "\n",
    "model_scores = {}\n",
    "for name, model in models.items():\n",
    "    scores = cross_val_score(model, X_turnout_scaled, y_turnout, cv=3, scoring='r2')\n",
    "    model_scores[name] = scores.mean()\n",
    "\n",
    "# 🔍 Visualize model performance\n",
    "plt.figure(figsize=(10, 5))\n",
    "plt.bar(model_scores.keys(), model_scores.values(), color='skyblue')\n",
    "plt.xticks(rotation=45)\n",
    "plt.ylabel(\"R² Score\")\n",
    "plt.title(\"Model Comparison: Turnout Prediction\")\n",
    "plt.tight_layout()\n",
    "plt.show()\n",
    "\n",
    "# Choose best model\n",
    "best_model_name = max(model_scores, key=model_scores.get)\n",
    "best_model = models[best_model_name]\n",
    "best_model.fit(X_turnout_scaled, y_turnout)\n",
    "\n",
    "x_2028 = pd.DataFrame([dict(zip(X_turnout.columns, [0]*len(X_turnout.columns)))])\n",
    "x_2028.loc[0, 'Voted'] = 0\n",
    "x_2028.loc[0, 'Major_Race_Flag'] = 1\n",
    "x_2028.loc[0, 'COVID_Impact_Flag'] = 0\n",
    "x_2028.loc[0, 'Weather_Severity'] = 0\n",
    "x_2028.loc[0, 'Percent_Age_18_29'] = 14.5\n",
    "x_2028.loc[0, 'Percent_Age_30_44'] = 21.0\n",
    "x_2028.loc[0, 'Percent_Age_45_64'] = 37.5\n",
    "x_2028.loc[0, 'Percent_Age_65plus'] = 27.0\n",
    "x_2028.loc[0, 'Median_Income'] = 66000\n",
    "x_2028.loc[0, 'Percent_College_Grad'] = 33.0\n",
    "x_2028.loc[0, 'Past_Turnout_1'] = 66.3\n",
    "x_2028.loc[0, 'Past_Turnout_2'] = 52.9\n",
    "\n",
    "x_2028_scaled = scaler_turnout.transform(x_2028)\n",
    "predicted_turnout_2028 = best_model.predict(x_2028_scaled)[0]"
   ]
  },
  {
   "cell_type": "code",
   "execution_count": 74,
   "id": "e0f8ed31-f642-40db-8ce8-852f330a74d5",
   "metadata": {},
   "outputs": [],
   "source": [
    "# =========================\n",
    "# 🔹 SECTION 3: VOTE SHARE MODEL (RIDGE)\n",
    "# =========================\n",
    "vs_df = vote_share_df.drop(columns=['Dem_Votes', 'Rep_Votes', 'Total'])\n",
    "vs_df = vs_df.dropna()\n",
    "encoder = OneHotEncoder(drop='first', sparse_output=False)\n",
    "encoded = encoder.fit_transform(vs_df[['Election_Type']])\n",
    "encoded_df = pd.DataFrame(encoded, columns=encoder.get_feature_names_out(['Election_Type']))\n",
    "vs_df = pd.concat([vs_df.drop(columns='Election_Type'), encoded_df], axis=1)\n",
    "\n",
    "X_vote = vs_df.drop(columns=['Dem_Share', 'Rep_Share', 'Year'])\n",
    "y_vote = vs_df['Dem_Share']\n",
    "scaler_vote = StandardScaler()\n",
    "X_vote_scaled = scaler_vote.fit_transform(X_vote)\n",
    "\n",
    "ridge_vote = RidgeCV(alphas=[0.1, 1.0, 10.0], cv=3)\n",
    "ridge_vote.fit(X_vote_scaled, y_vote)\n",
    "\n",
    "x_vote_2028 = pd.DataFrame([dict(zip(X_vote.columns, [0]*len(X_vote.columns)))])\n",
    "x_vote_2028.loc[0, 'Turnout_Percent'] = predicted_turnout_2028\n",
    "x_vote_2028.loc[0, 'Major_Race_Flag'] = 1\n",
    "x_vote_2028.loc[0, 'COVID_Impact_Flag'] = 0\n",
    "x_vote_2028.loc[0, 'Weather_Severity'] = 0\n",
    "x_vote_2028.loc[0, 'Dem_Implied_Prob_2028'] = 0.424\n",
    "x_vote_2028.loc[0, 'Rep_Implied_Prob_2028'] = 0.559\n",
    "x_vote_2028.loc[0, 'Ind_Implied_Prob_2028'] = 0.0093\n",
    "\n",
    "x_vote_2028_scaled = scaler_vote.transform(x_vote_2028)\n",
    "predicted_dem_share = ridge_vote.predict(x_vote_2028_scaled)[0]\n",
    "predicted_rep_share = 100 - predicted_dem_share"
   ]
  },
  {
   "cell_type": "code",
   "execution_count": 75,
   "id": "4b3a754f-1b8a-493f-ae6e-2b67c5518508",
   "metadata": {},
   "outputs": [
    {
     "name": "stdout",
     "output_type": "stream",
     "text": [
      "Final Prediction Summary\n",
      "-------------------------\n",
      "Best Turnout Model: LinearRegression\n",
      "Predicted Turnout %: 54.73%\n",
      "Predicted Dem Share: 54.29%\n",
      "Predicted Rep Share: 45.71%\n",
      "Projected Democratic Votes: 24,960\n",
      "Projected Republican Votes: 21,016\n",
      "🏁 Predicted Winner: Democrat\n"
     ]
    }
   ],
   "source": [
    "# =========================\n",
    "# 🔹 SECTION 4: PROJECT FINAL VOTE COUNTS & WINNER\n",
    "# =========================\n",
    "reg_voters = 84000\n",
    "predicted_votes = reg_voters * (predicted_turnout_2028 / 100)\n",
    "predicted_dem_votes = round(predicted_votes * (predicted_dem_share / 100))\n",
    "predicted_rep_votes = round(predicted_votes * (predicted_rep_share / 100))\n",
    "winner = \"Democrat\" if predicted_dem_votes > predicted_rep_votes else \"Republican\"\n",
    "\n",
    "# Mathematical Derivation Note:\n",
    "# Let T be the predicted turnout percentage\n",
    "# Let V be registered voters, D% the Dem share, R% the Rep share\n",
    "# Then:  DemVotes = V * (T / 100) * (D / 100)\n",
    "#         RepVotes = V * (T / 100) * (R / 100)\n",
    "\n",
    "print(\"Final Prediction Summary\")\n",
    "print(\"-------------------------\")\n",
    "print(f\"Best Turnout Model: {best_model_name}\")\n",
    "print(f\"Predicted Turnout %: {predicted_turnout_2028:.2f}%\")\n",
    "print(f\"Predicted Dem Share: {predicted_dem_share:.2f}%\")\n",
    "print(f\"Predicted Rep Share: {predicted_rep_share:.2f}%\")\n",
    "print(f\"Projected Democratic Votes: {predicted_dem_votes:,}\")\n",
    "print(f\"Projected Republican Votes: {predicted_rep_votes:,}\")\n",
    "print(f\"🏁 Predicted Winner: {winner}\")"
   ]
  },
  {
   "cell_type": "code",
   "execution_count": 76,
   "id": "9fbd2bfc-506a-41e3-b1f0-6c09d10d90d1",
   "metadata": {},
   "outputs": [
    {
     "name": "stdout",
     "output_type": "stream",
     "text": [
      "Shape of X_turnout: (4, 12)\n",
      "Any NaNs in X_turnout? False\n",
      "Any NaNs in y_turnout? False\n",
      "Unique values in y_turnout: [68.60606061 68.86227545 68.08502925 68.3807558 ]\n",
      "y_turnout range: 68.08502925 to 68.8622754491018\n"
     ]
    }
   ],
   "source": [
    "print(\"Shape of X_turnout:\", X_turnout.shape)\n",
    "print(\"Any NaNs in X_turnout?\", X_turnout.isnull().any().any())\n",
    "print(\"Any NaNs in y_turnout?\", y_turnout.isnull().any())\n",
    "print(\"Unique values in y_turnout:\", y_turnout.unique())\n",
    "print(\"y_turnout range:\", y_turnout.min(), \"to\", y_turnout.max())\n"
   ]
  },
  {
   "cell_type": "code",
   "execution_count": null,
   "id": "3dc4709c-4ff2-44a8-9221-3f23e4622d67",
   "metadata": {},
   "outputs": [],
   "source": []
  }
 ],
 "metadata": {
  "kernelspec": {
   "display_name": "Python 3 (ipykernel)",
   "language": "python",
   "name": "python3"
  },
  "language_info": {
   "codemirror_mode": {
    "name": "ipython",
    "version": 3
   },
   "file_extension": ".py",
   "mimetype": "text/x-python",
   "name": "python",
   "nbconvert_exporter": "python",
   "pygments_lexer": "ipython3",
   "version": "3.13.1"
  }
 },
 "nbformat": 4,
 "nbformat_minor": 5
}
